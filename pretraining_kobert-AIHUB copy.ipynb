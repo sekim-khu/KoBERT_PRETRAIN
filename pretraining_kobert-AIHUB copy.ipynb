{
 "cells": [
  {
   "attachments": {},
   "cell_type": "markdown",
   "id": "e56af9ec",
   "metadata": {},
   "source": [
    "# Import"
   ]
  },
  {
   "cell_type": "code",
   "execution_count": 2,
   "id": "e27f43cf",
   "metadata": {
    "scrolled": true
   },
   "outputs": [
    {
     "name": "stderr",
     "output_type": "stream",
     "text": [
      "/opt/conda/lib/python3.8/site-packages/scipy/__init__.py:138: UserWarning: A NumPy version >=1.16.5 and <1.23.0 is required for this version of SciPy (detected version 1.23.4)\n",
      "  warnings.warn(f\"A NumPy version >={np_minversion} and <{np_maxversion} is required for this version of \"\n"
     ]
    }
   ],
   "source": [
    "import os\n",
    "import nltk\n",
    "import json\n",
    "from nltk import sent_tokenize\n",
    "from tqdm import tqdm\n",
    "from itertools import chain\n",
    "\n",
    "import multiprocessing\n",
    "import parmap\n",
    "\n",
    "\n",
    "from datasets import Dataset, load_from_disk, concatenate_datasets\n",
    "from transformers import AutoTokenizer, AutoConfig, TrainingArguments, AutoModelForMaskedLM, DataCollatorForLanguageModeling, Trainer\n",
    "\n",
    "import pickle"
   ]
  },
  {
   "attachments": {},
   "cell_type": "markdown",
   "id": "81616053",
   "metadata": {},
   "source": [
    "# Load Dataset"
   ]
  },
  {
   "cell_type": "code",
   "execution_count": 21,
   "id": "cd55e1fd",
   "metadata": {},
   "outputs": [],
   "source": [
    "data_path = \"./data\"\n",
    "model_cache_dir = \"./BERT_cache\"\n",
    "model_output_dir = './BERT'\n",
    "original_datasets_path = data_path + \"/original_datasets\"\n",
    "total_sentence_list_file_name = \"total_sentence_list.pickle\"\n",
    "raw_datasets_folder_name = \"raw_datasets\"\n",
    "tokenizer_name = \"tokenizer_aihub_news\"\n",
    "tokenized_datasets_folder_name = [\"tokenized_datasets\", \"tokenized_datasets_1\", \"tokenized_datasets_2\", \"tokenized_datasets_3\"]\n",
    "grouped_tokenized_datasets_folder_name = \"grouped_tokenized_datasets\""
   ]
  },
  {
   "cell_type": "code",
   "execution_count": 3,
   "id": "10c2e88e",
   "metadata": {},
   "outputs": [],
   "source": [
    "def listize_dataset(json_file_path):    \n",
    "    sentence_list = []\n",
    "\n",
    "    with open(json_file_path, 'r', encoding='UTF-8') as f:\n",
    "        json_object = json.load(f)\n",
    "\n",
    "    for line in json_object['SJML']['text']:\n",
    "        raw_text = line['content'].replace('..', '.')\n",
    "        raw_text_list = sent_tokenize(raw_text)\n",
    "        \n",
    "        for item in raw_text_list:\n",
    "            if len(item) < 5:\n",
    "                continue\n",
    "            else:\n",
    "                sentence_list.append(item.strip())\n",
    "\n",
    "    return sentence_list"
   ]
  },
  {
   "cell_type": "code",
   "execution_count": 4,
   "id": "6abc2067",
   "metadata": {},
   "outputs": [],
   "source": [
    "num_proc = multiprocessing.cpu_count()"
   ]
  },
  {
   "cell_type": "code",
   "execution_count": 5,
   "id": "b13aae49",
   "metadata": {},
   "outputs": [
    {
     "data": {
      "application/vnd.jupyter.widget-view+json": {
       "model_id": "8a0769e9f846440ab333cf18e5e6bf8a",
       "version_major": 2,
       "version_minor": 0
      },
      "text/plain": [
       "  0%|          | 0/58997 [00:00<?, ?it/s]"
      ]
     },
     "metadata": {},
     "output_type": "display_data"
    }
   ],
   "source": [
    "file_path_list = []\n",
    "upper_folder_list = os.listdir(original_datasets_path)\n",
    "for upper_dir_name in upper_folder_list:\n",
    "    file_list = os.listdir(os.path.join(original_datasets_path, upper_dir_name))\n",
    "    for dir_name in file_list:\n",
    "        file_path = os.path.join(original_datasets_path, upper_dir_name, dir_name)\n",
    "\n",
    "        json_file_list = os.listdir(file_path)\n",
    "        for json_file_name in json_file_list:\n",
    "            json_file_path = os.path.join(file_path, json_file_name)\n",
    "\n",
    "            file_path_list.append(json_file_path)\n",
    "\n",
    "sentence_list_of_list = parmap.map(listize_dataset, file_path_list, pm_pbar=True, pm_processes=num_proc)"
   ]
  },
  {
   "cell_type": "code",
   "execution_count": 6,
   "id": "8fb33ad6",
   "metadata": {},
   "outputs": [],
   "source": [
    "total_sentence_list = list(chain(*sentence_list_of_list))"
   ]
  },
  {
   "cell_type": "code",
   "execution_count": 9,
   "id": "f3ab95d3",
   "metadata": {},
   "outputs": [],
   "source": [
    "with open(os.path.join(data_path, total_sentence_list_file_name), 'wb') as fw:\n",
    "    pickle.dump(total_sentence_list, fw)"
   ]
  },
  {
   "cell_type": "code",
   "execution_count": 14,
   "id": "aa54a3c8",
   "metadata": {},
   "outputs": [],
   "source": [
    "with open(os.path.join(data_path, total_sentence_list_file_name), 'rb') as f:\n",
    "    total_sentence_list = pickle.load(f)"
   ]
  },
  {
   "cell_type": "code",
   "execution_count": 10,
   "id": "5f9ce7ee",
   "metadata": {},
   "outputs": [],
   "source": [
    "raw_datasets = Dataset.from_dict({\"text\":total_sentence_list})"
   ]
  },
  {
   "cell_type": "code",
   "execution_count": 11,
   "id": "b1e683a8",
   "metadata": {},
   "outputs": [
    {
     "name": "stdout",
     "output_type": "stream",
     "text": [
      "60011706\n"
     ]
    },
    {
     "data": {
      "text/plain": [
       "{'text': '여러 통신사와 복수계약을 맺고 있는 대형 유통점 혹은 판매점들은 그나마 사정이 나은 편.'}"
      ]
     },
     "execution_count": 11,
     "metadata": {},
     "output_type": "execute_result"
    }
   ],
   "source": [
    "print(len(raw_datasets))\n",
    "raw_datasets[10]"
   ]
  },
  {
   "cell_type": "code",
   "execution_count": 15,
   "id": "d763cc5f",
   "metadata": {},
   "outputs": [
    {
     "data": {
      "application/vnd.jupyter.widget-view+json": {
       "model_id": "28b0609c2db1480d830652c6d2a38cb6",
       "version_major": 2,
       "version_minor": 0
      },
      "text/plain": [
       "Saving the dataset (0/24 shards):   0%|          | 0/60011706 [00:00<?, ? examples/s]"
      ]
     },
     "metadata": {},
     "output_type": "display_data"
    }
   ],
   "source": [
    "raw_datasets.save_to_disk(os.path.join(data_path, raw_datasets_folder_name))"
   ]
  },
  {
   "cell_type": "code",
   "execution_count": 16,
   "id": "83b93bf1",
   "metadata": {},
   "outputs": [],
   "source": [
    "raw_datasets = load_from_disk(os.path.join(data_path, raw_datasets_folder_name))"
   ]
  },
  {
   "attachments": {},
   "cell_type": "markdown",
   "id": "0254e1e2",
   "metadata": {},
   "source": [
    "# Tokenizing"
   ]
  },
  {
   "cell_type": "code",
   "execution_count": 30,
   "id": "bc0bae8e",
   "metadata": {},
   "outputs": [
    {
     "data": {
      "application/vnd.jupyter.widget-view+json": {
       "model_id": "3041a6bbfbd648d885272ba58a48b5f5",
       "version_major": 2,
       "version_minor": 0
      },
      "text/plain": [
       "Downloading (…)okenizer_config.json:   0%|          | 0.00/28.0 [00:00<?, ?B/s]"
      ]
     },
     "metadata": {},
     "output_type": "display_data"
    },
    {
     "data": {
      "application/vnd.jupyter.widget-view+json": {
       "model_id": "939262db7d9648e78c5bfcc440428aad",
       "version_major": 2,
       "version_minor": 0
      },
      "text/plain": [
       "Downloading (…)lve/main/config.json:   0%|          | 0.00/570 [00:00<?, ?B/s]"
      ]
     },
     "metadata": {},
     "output_type": "display_data"
    },
    {
     "data": {
      "application/vnd.jupyter.widget-view+json": {
       "model_id": "06e21e89eccd4f0aa4fae209229db38a",
       "version_major": 2,
       "version_minor": 0
      },
      "text/plain": [
       "Downloading (…)solve/main/vocab.txt:   0%|          | 0.00/232k [00:00<?, ?B/s]"
      ]
     },
     "metadata": {},
     "output_type": "display_data"
    },
    {
     "data": {
      "application/vnd.jupyter.widget-view+json": {
       "model_id": "4d64e7395ab74e61bde7d0778f639886",
       "version_major": 2,
       "version_minor": 0
      },
      "text/plain": [
       "Downloading (…)/main/tokenizer.json:   0%|          | 0.00/466k [00:00<?, ?B/s]"
      ]
     },
     "metadata": {},
     "output_type": "display_data"
    },
    {
     "name": "stderr",
     "output_type": "stream",
     "text": [
      "  3%|▎         | 159/6002 [03:01<2:29:25,  1.53s/it]"
     ]
    }
   ],
   "source": [
    "# # training a tokenizer from scratch\n",
    "# def batch_iterator(batch_size=10000):\n",
    "#     for i in tqdm(range(0, len(raw_datasets), batch_size)):\n",
    "#         yield raw_datasets[i:i+batch_size][\"text\"]\n",
    "        \n",
    "# old_tokenizer = AutoTokenizer.from_pretrained('bert-base-uncased')\n",
    "# tokenizer = old_tokenizer.train_new_from_iterator(text_iterator=batch_iterator(), vocab_size=15000)\n",
    "# tokenizer.save_pretrained(tokenizer_name)"
   ]
  },
  {
   "cell_type": "code",
   "execution_count": 18,
   "id": "ea97ff83",
   "metadata": {},
   "outputs": [],
   "source": [
    "raw_datasets_1 = raw_datasets.select(range(20000000))\n",
    "raw_datasets_2 = raw_datasets.select(range(20000000, 40000000))\n",
    "raw_datasets_3 = raw_datasets.select(range(40000000, len(raw_datasets)))"
   ]
  },
  {
   "cell_type": "code",
   "execution_count": 19,
   "id": "23ff5f81",
   "metadata": {},
   "outputs": [],
   "source": [
    "tokenizer = AutoTokenizer.from_pretrained(tokenizer_name)"
   ]
  },
  {
   "cell_type": "code",
   "execution_count": 20,
   "id": "f17b19d9",
   "metadata": {},
   "outputs": [],
   "source": [
    "def preprocess_texts(examples):\n",
    "    tokenized_inputs = tokenizer(\n",
    "       examples[\"text\"], return_special_tokens_mask=True, truncation=True, max_length=tokenizer.model_max_length\n",
    "    )\n",
    "    return tokenized_inputs"
   ]
  },
  {
   "cell_type": "code",
   "execution_count": null,
   "id": "4bca1ac4",
   "metadata": {},
   "outputs": [],
   "source": [
    "tokenized_datasets_1 = raw_datasets_1.map(preprocess_texts, batched=True, remove_columns=[\"text\"], num_proc=num_proc)\n",
    "tokenized_datasets_1.save_to_disk(os.path.join(data_path, tokenized_datasets_folder_name[1]))"
   ]
  },
  {
   "cell_type": "code",
   "execution_count": null,
   "id": "8dd92403",
   "metadata": {},
   "outputs": [],
   "source": [
    "tokenized_datasets_2 = raw_datasets_2.map(preprocess_texts, batched=True, remove_columns=[\"text\"], num_proc=num_proc)\n",
    "tokenized_datasets_2.save_to_disk(os.path.join(data_path, tokenized_datasets_folder_name[2]))"
   ]
  },
  {
   "cell_type": "code",
   "execution_count": null,
   "id": "4d332997",
   "metadata": {},
   "outputs": [],
   "source": [
    "tokenized_datasets_3 = raw_datasets_3.map(preprocess_texts, batched=True, remove_columns=[\"text\"], num_proc=num_proc)\n",
    "tokenized_datasets_3.save_to_disk(os.path.join(data_path, tokenized_datasets_folder_name[3]))"
   ]
  },
  {
   "cell_type": "code",
   "execution_count": 22,
   "id": "06dc7ec8",
   "metadata": {},
   "outputs": [],
   "source": [
    "tokenized_datasets_1 = load_from_disk(os.path.join(data_path, tokenized_datasets_folder_name[1]))"
   ]
  },
  {
   "cell_type": "code",
   "execution_count": 23,
   "id": "39ce5260",
   "metadata": {},
   "outputs": [],
   "source": [
    "tokenized_datasets_2 = load_from_disk(os.path.join(data_path, tokenized_datasets_folder_name[2]))"
   ]
  },
  {
   "cell_type": "code",
   "execution_count": 24,
   "id": "e6200dd8",
   "metadata": {},
   "outputs": [],
   "source": [
    "tokenized_datasets_3 = load_from_disk(os.path.join(data_path, tokenized_datasets_folder_name[3]))"
   ]
  },
  {
   "cell_type": "code",
   "execution_count": 25,
   "id": "cbd2e3d4",
   "metadata": {},
   "outputs": [],
   "source": [
    "tokenized_datasets = concatenate_datasets([tokenized_datasets_1, tokenized_datasets_2, tokenized_datasets_1])"
   ]
  },
  {
   "cell_type": "code",
   "execution_count": 26,
   "id": "794608ac",
   "metadata": {},
   "outputs": [
    {
     "data": {
      "text/plain": [
       "Dataset({\n",
       "    features: ['input_ids', 'token_type_ids', 'attention_mask', 'special_tokens_mask'],\n",
       "    num_rows: 60000000\n",
       "})"
      ]
     },
     "execution_count": 26,
     "metadata": {},
     "output_type": "execute_result"
    }
   ],
   "source": [
    "tokenized_datasets"
   ]
  },
  {
   "cell_type": "code",
   "execution_count": null,
   "id": "f6b8535a",
   "metadata": {},
   "outputs": [],
   "source": [
    "tokenized_datasets.save_to_disk(os.path.join(data_path, tokenized_datasets_folder_name[0]))"
   ]
  },
  {
   "cell_type": "code",
   "execution_count": null,
   "id": "4bf608cb",
   "metadata": {},
   "outputs": [],
   "source": [
    "tokenized_datasets = load_from_disk(os.path.join(data_path, tokenized_datasets_folder_name[0]))"
   ]
  },
  {
   "attachments": {},
   "cell_type": "markdown",
   "id": "1d488d83",
   "metadata": {},
   "source": [
    "# Grouping"
   ]
  },
  {
   "cell_type": "code",
   "execution_count": null,
   "id": "b307bfe6",
   "metadata": {},
   "outputs": [
    {
     "ename": "NameError",
     "evalue": "name 'tokenized_datasets' is not defined",
     "output_type": "error",
     "traceback": [
      "\u001b[0;31m---------------------------------------------------------------------------\u001b[0m",
      "\u001b[0;31mNameError\u001b[0m                                 Traceback (most recent call last)",
      "\u001b[1;32m/home/work/sekim_backup/BERT_pretrain/pretraining_kobert-AIHUB.ipynb Cell 10\u001b[0m in \u001b[0;36m<cell line: 20>\u001b[0;34m()\u001b[0m\n\u001b[1;32m     <a href='vscode-notebook-cell://ssh-remote%2Bnipa-ktcloud/home/work/sekim_backup/BERT_pretrain/pretraining_kobert-AIHUB.ipynb#X10sdnNjb2RlLXJlbW90ZQ%3D%3D?line=13'>14</a>\u001b[0m     result \u001b[39m=\u001b[39m {\n\u001b[1;32m     <a href='vscode-notebook-cell://ssh-remote%2Bnipa-ktcloud/home/work/sekim_backup/BERT_pretrain/pretraining_kobert-AIHUB.ipynb#X10sdnNjb2RlLXJlbW90ZQ%3D%3D?line=14'>15</a>\u001b[0m         k: [t[i : i \u001b[39m+\u001b[39m tokenizer\u001b[39m.\u001b[39mmodel_max_length] \u001b[39mfor\u001b[39;00m i \u001b[39min\u001b[39;00m \u001b[39mrange\u001b[39m(\u001b[39m0\u001b[39m, total_length, tokenizer\u001b[39m.\u001b[39mmodel_max_length)]\n\u001b[1;32m     <a href='vscode-notebook-cell://ssh-remote%2Bnipa-ktcloud/home/work/sekim_backup/BERT_pretrain/pretraining_kobert-AIHUB.ipynb#X10sdnNjb2RlLXJlbW90ZQ%3D%3D?line=15'>16</a>\u001b[0m         \u001b[39mfor\u001b[39;00m k, t \u001b[39min\u001b[39;00m concatenated_examples\u001b[39m.\u001b[39mitems()\n\u001b[1;32m     <a href='vscode-notebook-cell://ssh-remote%2Bnipa-ktcloud/home/work/sekim_backup/BERT_pretrain/pretraining_kobert-AIHUB.ipynb#X10sdnNjb2RlLXJlbW90ZQ%3D%3D?line=16'>17</a>\u001b[0m     }\n\u001b[1;32m     <a href='vscode-notebook-cell://ssh-remote%2Bnipa-ktcloud/home/work/sekim_backup/BERT_pretrain/pretraining_kobert-AIHUB.ipynb#X10sdnNjb2RlLXJlbW90ZQ%3D%3D?line=17'>18</a>\u001b[0m     \u001b[39mreturn\u001b[39;00m result\n\u001b[0;32m---> <a href='vscode-notebook-cell://ssh-remote%2Bnipa-ktcloud/home/work/sekim_backup/BERT_pretrain/pretraining_kobert-AIHUB.ipynb#X10sdnNjb2RlLXJlbW90ZQ%3D%3D?line=19'>20</a>\u001b[0m tokenized_datasets \u001b[39m=\u001b[39m tokenized_datasets\u001b[39m.\u001b[39mmap(group_texts, batched\u001b[39m=\u001b[39m\u001b[39mTrue\u001b[39;00m, num_proc\u001b[39m=\u001b[39mnum_proc)\n\u001b[1;32m     <a href='vscode-notebook-cell://ssh-remote%2Bnipa-ktcloud/home/work/sekim_backup/BERT_pretrain/pretraining_kobert-AIHUB.ipynb#X10sdnNjb2RlLXJlbW90ZQ%3D%3D?line=20'>21</a>\u001b[0m \u001b[39m# shuffle dataset\u001b[39;00m\n\u001b[1;32m     <a href='vscode-notebook-cell://ssh-remote%2Bnipa-ktcloud/home/work/sekim_backup/BERT_pretrain/pretraining_kobert-AIHUB.ipynb#X10sdnNjb2RlLXJlbW90ZQ%3D%3D?line=21'>22</a>\u001b[0m tokenized_datasets \u001b[39m=\u001b[39m tokenized_datasets\u001b[39m.\u001b[39mshuffle(seed\u001b[39m=\u001b[39m\u001b[39m34\u001b[39m)\n",
      "\u001b[0;31mNameError\u001b[0m: name 'tokenized_datasets' is not defined"
     ]
    }
   ],
   "source": [
    "# Main data processing function that will concatenate all texts from our dataset and generate chunks of\n",
    "# max_seq_length.\n",
    "def group_texts(examples):\n",
    "    # Concatenate all texts.\n",
    "    concatenated_examples = {k: list(chain(*examples[k])) for k in examples.keys()}\n",
    "    total_length = len(concatenated_examples[list(examples.keys())[0]])\n",
    "    # We drop the small remainder, we could add padding if the model supported it instead of this drop, you can\n",
    "    # customize this part to your needs.\n",
    "    if total_length >= tokenizer.model_max_length:\n",
    "        total_length = (total_length // tokenizer.model_max_length) * tokenizer.model_max_length\n",
    "    # Split by chunks of max_len.\n",
    "    result = {\n",
    "        k: [t[i : i + tokenizer.model_max_length] for i in range(0, total_length, tokenizer.model_max_length)]\n",
    "        for k, t in concatenated_examples.items()\n",
    "    }\n",
    "    return result"
   ]
  },
  {
   "cell_type": "code",
   "execution_count": null,
   "id": "212105fc",
   "metadata": {},
   "outputs": [],
   "source": [
    "tokenized_datasets = tokenized_datasets.map(group_texts, batched=True, num_proc=16)\n",
    "# shuffle dataset\n",
    "tokenized_datasets = tokenized_datasets.shuffle(seed=34)\n",
    "\n",
    "print(f\"the dataset contains in total {len(tokenized_datasets)*tokenizer.model_max_length} tokens\")"
   ]
  },
  {
   "cell_type": "code",
   "execution_count": null,
   "id": "b861113d",
   "metadata": {},
   "outputs": [],
   "source": [
    "tokenized_datasets.save_to_disk(os.path.join(data_path, grouped_tokenized_datasets_folder_name))"
   ]
  },
  {
   "cell_type": "code",
   "execution_count": null,
   "id": "c2d46155",
   "metadata": {},
   "outputs": [],
   "source": [
    "tokenized_datasets = load_from_disk(os.path.join(data_path, grouped_tokenized_datasets_folder_name))"
   ]
  },
  {
   "attachments": {},
   "cell_type": "markdown",
   "id": "81b902c2",
   "metadata": {},
   "source": [
    "# Prepare Training"
   ]
  },
  {
   "cell_type": "code",
   "execution_count": null,
   "id": "59b86375",
   "metadata": {},
   "outputs": [],
   "source": [
    "model_config = AutoConfig.from_pretrained('bert-base-uncased')"
   ]
  },
  {
   "cell_type": "code",
   "execution_count": null,
   "id": "0ba57e32",
   "metadata": {},
   "outputs": [],
   "source": [
    "model = AutoModelForMaskedLM.from_pretrained('bert-base-uncased', config=model_config, cache_dir=model_cache_dir)\n",
    "model.resize_token_embeddings(len(tokenizer))"
   ]
  },
  {
   "cell_type": "code",
   "execution_count": null,
   "id": "5ee45705",
   "metadata": {},
   "outputs": [],
   "source": [
    "training_args = TrainingArguments(\n",
    "    output_dir = model_output_dir,\n",
    "    overwrite_output_dir = True,\n",
    "    do_train = True,\n",
    "    do_eval = True,\n",
    "    per_device_train_batch_size = 32,\n",
    "    per_device_eval_batch_size = 32,\n",
    "    logging_steps = 50,\n",
    "    prediction_loss_only = True,\n",
    "    learning_rate = 5e-5,\n",
    "    weight_decay = 0,\n",
    "    adam_epsilon = 1e-8,\n",
    "    max_grad_norm = 1.0,\n",
    "    num_train_epochs = 1,\n",
    "    save_steps = -1\n",
    ")"
   ]
  },
  {
   "cell_type": "code",
   "execution_count": null,
   "id": "a6c63c1e",
   "metadata": {},
   "outputs": [],
   "source": [
    "data_collator = DataCollatorForLanguageModeling(tokenizer=tokenizer, \n",
    "                                                mlm=True, \n",
    "                                                mlm_probability=0.15,)"
   ]
  },
  {
   "cell_type": "code",
   "execution_count": null,
   "id": "4e41388e",
   "metadata": {},
   "outputs": [],
   "source": [
    "trainer = Trainer(\n",
    "    model=model,\n",
    "    args=training_args,\n",
    "    data_collator=data_collator,\n",
    "    train_dataset=tokenized_datasets,\n",
    ")"
   ]
  },
  {
   "attachments": {},
   "cell_type": "markdown",
   "id": "d2c2462a",
   "metadata": {},
   "source": [
    "# Train"
   ]
  },
  {
   "cell_type": "code",
   "execution_count": 10,
   "id": "5f364939",
   "metadata": {
    "scrolled": false
   },
   "outputs": [
    {
     "name": "stderr",
     "output_type": "stream",
     "text": [
      "/opt/conda/lib/python3.8/site-packages/transformers/optimization.py:391: FutureWarning: This implementation of AdamW is deprecated and will be removed in a future version. Use the PyTorch implementation torch.optim.AdamW instead, or set `no_deprecation_warning=True` to disable this warning\n",
      "  warnings.warn(\n",
      "You're using a BertTokenizerFast tokenizer. Please note that with a fast tokenizer, using the `__call__` method is faster than using a method to encode the text followed by a call to the `pad` method to get a padded encoding.\n",
      "/opt/conda/lib/python3.8/site-packages/torch/nn/parallel/_functions.py:68: UserWarning: Was asked to gather along dimension 0, but all input tensors were scalars; will instead unsqueeze and return a vector.\n",
      "  warnings.warn('Was asked to gather along dimension 0, but all '\n"
     ]
    },
    {
     "data": {
      "text/html": [
       "\n",
       "    <div>\n",
       "      \n",
       "      <progress value='28' max='37813' style='width:300px; height:20px; vertical-align: middle;'></progress>\n",
       "      [   28/37813 00:16 < 6:47:53, 1.54 it/s, Epoch 0.00/1]\n",
       "    </div>\n",
       "    <table border=\"1\" class=\"dataframe\">\n",
       "  <thead>\n",
       " <tr style=\"text-align: left;\">\n",
       "      <th>Step</th>\n",
       "      <th>Training Loss</th>\n",
       "    </tr>\n",
       "  </thead>\n",
       "  <tbody>\n",
       "    <tr>\n",
       "      <td>1</td>\n",
       "      <td>12.178000</td>\n",
       "    </tr>\n",
       "    <tr>\n",
       "      <td>2</td>\n",
       "      <td>9.012200</td>\n",
       "    </tr>\n",
       "    <tr>\n",
       "      <td>3</td>\n",
       "      <td>8.871000</td>\n",
       "    </tr>\n",
       "    <tr>\n",
       "      <td>4</td>\n",
       "      <td>10.278800</td>\n",
       "    </tr>\n",
       "    <tr>\n",
       "      <td>5</td>\n",
       "      <td>8.616600</td>\n",
       "    </tr>\n",
       "    <tr>\n",
       "      <td>6</td>\n",
       "      <td>8.454800</td>\n",
       "    </tr>\n",
       "    <tr>\n",
       "      <td>7</td>\n",
       "      <td>8.396900</td>\n",
       "    </tr>\n",
       "    <tr>\n",
       "      <td>8</td>\n",
       "      <td>8.270100</td>\n",
       "    </tr>\n",
       "    <tr>\n",
       "      <td>9</td>\n",
       "      <td>8.145000</td>\n",
       "    </tr>\n",
       "    <tr>\n",
       "      <td>10</td>\n",
       "      <td>8.027700</td>\n",
       "    </tr>\n",
       "    <tr>\n",
       "      <td>11</td>\n",
       "      <td>7.984800</td>\n",
       "    </tr>\n",
       "    <tr>\n",
       "      <td>12</td>\n",
       "      <td>7.797900</td>\n",
       "    </tr>\n",
       "    <tr>\n",
       "      <td>13</td>\n",
       "      <td>7.799300</td>\n",
       "    </tr>\n",
       "    <tr>\n",
       "      <td>14</td>\n",
       "      <td>7.699400</td>\n",
       "    </tr>\n",
       "    <tr>\n",
       "      <td>15</td>\n",
       "      <td>7.626700</td>\n",
       "    </tr>\n",
       "    <tr>\n",
       "      <td>16</td>\n",
       "      <td>7.449200</td>\n",
       "    </tr>\n",
       "    <tr>\n",
       "      <td>17</td>\n",
       "      <td>7.447700</td>\n",
       "    </tr>\n",
       "    <tr>\n",
       "      <td>18</td>\n",
       "      <td>7.432900</td>\n",
       "    </tr>\n",
       "    <tr>\n",
       "      <td>19</td>\n",
       "      <td>7.238600</td>\n",
       "    </tr>\n",
       "    <tr>\n",
       "      <td>20</td>\n",
       "      <td>7.265700</td>\n",
       "    </tr>\n",
       "    <tr>\n",
       "      <td>21</td>\n",
       "      <td>7.200100</td>\n",
       "    </tr>\n",
       "    <tr>\n",
       "      <td>22</td>\n",
       "      <td>7.170800</td>\n",
       "    </tr>\n",
       "    <tr>\n",
       "      <td>23</td>\n",
       "      <td>6.942400</td>\n",
       "    </tr>\n",
       "    <tr>\n",
       "      <td>24</td>\n",
       "      <td>7.065700</td>\n",
       "    </tr>\n",
       "    <tr>\n",
       "      <td>25</td>\n",
       "      <td>7.047400</td>\n",
       "    </tr>\n",
       "    <tr>\n",
       "      <td>26</td>\n",
       "      <td>7.002500</td>\n",
       "    </tr>\n",
       "  </tbody>\n",
       "</table><p>"
      ],
      "text/plain": [
       "<IPython.core.display.HTML object>"
      ]
     },
     "metadata": {},
     "output_type": "display_data"
    }
   ],
   "source": [
    "trainer.train()"
   ]
  },
  {
   "cell_type": "code",
   "execution_count": null,
   "id": "58e000cf",
   "metadata": {},
   "outputs": [],
   "source": []
  }
 ],
 "metadata": {
  "kernelspec": {
   "display_name": "Python 3 (ipykernel)",
   "language": "python",
   "name": "python3"
  },
  "language_info": {
   "codemirror_mode": {
    "name": "ipython",
    "version": 3
   },
   "file_extension": ".py",
   "mimetype": "text/x-python",
   "name": "python",
   "nbconvert_exporter": "python",
   "pygments_lexer": "ipython3",
   "version": "3.8.12"
  }
 },
 "nbformat": 4,
 "nbformat_minor": 5
}
